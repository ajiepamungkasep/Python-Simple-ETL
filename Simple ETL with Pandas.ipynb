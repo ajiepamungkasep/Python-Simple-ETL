{
 "cells": [
  {
   "cell_type": "code",
   "execution_count": 1,
   "id": "8d489f07",
   "metadata": {},
   "outputs": [],
   "source": [
    "import pandas as pd"
   ]
  },
  {
   "cell_type": "markdown",
   "id": "d462c4fb",
   "metadata": {},
   "source": [
    "### Extract\n",
    "Extract merupakan proses meng-ekstraksi data dari sumber, sumber data ini bisa berupa relational data (SQL) atau tabel, nonrelational (NoSQL) maupun yang lainnya."
   ]
  },
  {
   "cell_type": "code",
   "execution_count": 8,
   "id": "edf7e900",
   "metadata": {
    "scrolled": true
   },
   "outputs": [
    {
     "name": "stdout",
     "output_type": "stream",
     "text": [
      "<class 'pandas.core.frame.DataFrame'>\n",
      "RangeIndex: 5000 entries, 0 to 4999\n",
      "Data columns (total 10 columns):\n",
      " #   Column          Non-Null Count  Dtype  \n",
      "---  ------          --------------  -----  \n",
      " 0   participant_id  5000 non-null   object \n",
      " 1   first_name      5000 non-null   object \n",
      " 2   last_name       5000 non-null   object \n",
      " 3   birth_date      5000 non-null   object \n",
      " 4   address         5000 non-null   object \n",
      " 5   phone_number    5000 non-null   object \n",
      " 6   country         5000 non-null   object \n",
      " 7   institute       5000 non-null   object \n",
      " 8   occupation      5000 non-null   object \n",
      " 9   register_time   5000 non-null   float64\n",
      "dtypes: float64(1), object(9)\n",
      "memory usage: 390.8+ KB\n"
     ]
    },
    {
     "data": {
      "text/html": [
       "<div>\n",
       "<style scoped>\n",
       "    .dataframe tbody tr th:only-of-type {\n",
       "        vertical-align: middle;\n",
       "    }\n",
       "\n",
       "    .dataframe tbody tr th {\n",
       "        vertical-align: top;\n",
       "    }\n",
       "\n",
       "    .dataframe thead th {\n",
       "        text-align: right;\n",
       "    }\n",
       "</style>\n",
       "<table border=\"1\" class=\"dataframe\">\n",
       "  <thead>\n",
       "    <tr style=\"text-align: right;\">\n",
       "      <th></th>\n",
       "      <th>participant_id</th>\n",
       "      <th>first_name</th>\n",
       "      <th>last_name</th>\n",
       "      <th>birth_date</th>\n",
       "      <th>address</th>\n",
       "      <th>phone_number</th>\n",
       "      <th>country</th>\n",
       "      <th>institute</th>\n",
       "      <th>occupation</th>\n",
       "      <th>register_time</th>\n",
       "    </tr>\n",
       "  </thead>\n",
       "  <tbody>\n",
       "    <tr>\n",
       "      <th>0</th>\n",
       "      <td>bd9b6f88-b84f-4c4d-90f8-b67fe2f1a29a</td>\n",
       "      <td>Citra</td>\n",
       "      <td>Nurdiyanti</td>\n",
       "      <td>05 Feb 1991</td>\n",
       "      <td>Gg. Monginsidi No. 08\\nMedan, Aceh 80734</td>\n",
       "      <td>(0151) 081 2706</td>\n",
       "      <td>Georgia</td>\n",
       "      <td>UD Prakasa Mandasari</td>\n",
       "      <td>Business Intelligence Engineer</td>\n",
       "      <td>1.617634e+09</td>\n",
       "    </tr>\n",
       "    <tr>\n",
       "      <th>1</th>\n",
       "      <td>7dfe3391-6f40-47b6-b4db-0c76ebaf5fc3</td>\n",
       "      <td>Aris</td>\n",
       "      <td>Setiawan</td>\n",
       "      <td>11 Jan 1993</td>\n",
       "      <td>Gg. Rajawali Timur No. 7\\nPrabumulih, MA 09434</td>\n",
       "      <td>+62 (036) 461 7027</td>\n",
       "      <td>Korea Utara</td>\n",
       "      <td>Universitas Diponegoro</td>\n",
       "      <td>Frontend Engineer</td>\n",
       "      <td>1.617634e+09</td>\n",
       "    </tr>\n",
       "    <tr>\n",
       "      <th>2</th>\n",
       "      <td>19582d7f-b824-4fe5-a517-d5bf573fc768</td>\n",
       "      <td>Cornelia</td>\n",
       "      <td>Handayani</td>\n",
       "      <td>31 Jul 1993</td>\n",
       "      <td>Jalan Kebonjati No. 0\\nAmbon, SS 57739</td>\n",
       "      <td>089 833 6695</td>\n",
       "      <td>Komoro</td>\n",
       "      <td>UD Hardiansyah Puspasari</td>\n",
       "      <td>Business Analyst</td>\n",
       "      <td>1.617634e+09</td>\n",
       "    </tr>\n",
       "    <tr>\n",
       "      <th>3</th>\n",
       "      <td>aeb6d817-25f3-4867-8a74-8d92e0a0f633</td>\n",
       "      <td>Soleh</td>\n",
       "      <td>Rajasa</td>\n",
       "      <td>04 Nov 1991</td>\n",
       "      <td>Jl. Yos Sudarso No. 109\\nLubuklinggau, SR 76156</td>\n",
       "      <td>+62 (418) 329-4756</td>\n",
       "      <td>Eritrea</td>\n",
       "      <td>Perum Tampubolon Yuliarti</td>\n",
       "      <td>DevOps Engineer</td>\n",
       "      <td>1.617634e+09</td>\n",
       "    </tr>\n",
       "    <tr>\n",
       "      <th>4</th>\n",
       "      <td>1fdabdd9-5444-4c97-87b2-fe8833ad0d27</td>\n",
       "      <td>Vivi</td>\n",
       "      <td>Astuti</td>\n",
       "      <td>22 Jan 2003</td>\n",
       "      <td>Jalan Gardujati No. 53\\nKediri, Sulawesi Tenga...</td>\n",
       "      <td>0812511835</td>\n",
       "      <td>Aljazair</td>\n",
       "      <td>PT Hardiansyah Rahimah</td>\n",
       "      <td>Data Analyst</td>\n",
       "      <td>1.617634e+09</td>\n",
       "    </tr>\n",
       "  </tbody>\n",
       "</table>\n",
       "</div>"
      ],
      "text/plain": [
       "                         participant_id first_name   last_name   birth_date  \\\n",
       "0  bd9b6f88-b84f-4c4d-90f8-b67fe2f1a29a      Citra  Nurdiyanti  05 Feb 1991   \n",
       "1  7dfe3391-6f40-47b6-b4db-0c76ebaf5fc3       Aris    Setiawan  11 Jan 1993   \n",
       "2  19582d7f-b824-4fe5-a517-d5bf573fc768   Cornelia   Handayani  31 Jul 1993   \n",
       "3  aeb6d817-25f3-4867-8a74-8d92e0a0f633      Soleh      Rajasa  04 Nov 1991   \n",
       "4  1fdabdd9-5444-4c97-87b2-fe8833ad0d27       Vivi      Astuti  22 Jan 2003   \n",
       "\n",
       "                                             address        phone_number  \\\n",
       "0           Gg. Monginsidi No. 08\\nMedan, Aceh 80734     (0151) 081 2706   \n",
       "1     Gg. Rajawali Timur No. 7\\nPrabumulih, MA 09434  +62 (036) 461 7027   \n",
       "2             Jalan Kebonjati No. 0\\nAmbon, SS 57739        089 833 6695   \n",
       "3    Jl. Yos Sudarso No. 109\\nLubuklinggau, SR 76156  +62 (418) 329-4756   \n",
       "4  Jalan Gardujati No. 53\\nKediri, Sulawesi Tenga...          0812511835   \n",
       "\n",
       "       country                  institute                      occupation  \\\n",
       "0      Georgia       UD Prakasa Mandasari  Business Intelligence Engineer   \n",
       "1  Korea Utara     Universitas Diponegoro               Frontend Engineer   \n",
       "2       Komoro   UD Hardiansyah Puspasari                Business Analyst   \n",
       "3      Eritrea  Perum Tampubolon Yuliarti                 DevOps Engineer   \n",
       "4     Aljazair     PT Hardiansyah Rahimah                    Data Analyst   \n",
       "\n",
       "   register_time  \n",
       "0   1.617634e+09  \n",
       "1   1.617634e+09  \n",
       "2   1.617634e+09  \n",
       "3   1.617634e+09  \n",
       "4   1.617634e+09  "
      ]
     },
     "execution_count": 8,
     "metadata": {},
     "output_type": "execute_result"
    }
   ],
   "source": [
    "df_participant = pd.read_csv('https://storage.googleapis.com/dqlab-dataset/dqthon-participants.csv')\n",
    "df_participant.info()\n",
    "df_participant.head()"
   ]
  },
  {
   "cell_type": "markdown",
   "id": "b28bbbbc",
   "metadata": {},
   "source": [
    "### Transform I : Kode Pos\n",
    "Membuat kolom baru bernama postal_code yang memuat informasi mengenai kode pos yang diambil dari alamat peserta (kolom address) untuk keperluan pengiriman hadiah agar lebih mudah. Kode pos berada di kalimat paling akhir pada kolom alamat. "
   ]
  },
  {
   "cell_type": "code",
   "execution_count": 6,
   "id": "b6747359",
   "metadata": {},
   "outputs": [],
   "source": [
    "df_participant['postal_code'] = df_participant['address'].str.extract(r'(\\d+)$') #regex pada extract berfungsi untuk mengambil angka kode pos di kolom address"
   ]
  },
  {
   "cell_type": "markdown",
   "id": "2bf611cf",
   "metadata": {},
   "source": [
    "### Transform II : Kota\n",
    "Selain kode pos, dibutuhkan juga kota dari peserta. Untuk menyediakan informasi tersebut, harus membuat kolom baru bernama city yang didapat dari kolom address. Diasumsikan bahwa kota merupakan sekumpulan karakter yang terdapat setelah nomor jalan diikuti dengan \\n (newline character) atau lainnya yaitu enter."
   ]
  },
  {
   "cell_type": "code",
   "execution_count": 9,
   "id": "0d099b57",
   "metadata": {},
   "outputs": [],
   "source": [
    "df_participant['city'] = df_participant['address'].str.extract(r'(?<=\\n)(\\w.+)(?=,)')"
   ]
  },
  {
   "cell_type": "markdown",
   "id": "14c26f23",
   "metadata": {},
   "source": [
    "### Transform III : Github\n",
    "Salah satu parameter untuk mengetahui proyek apa saja yang pernah dikerjakan oleh peserta yaitu dari git repository mereka dengan menggunakan profil github sebagai parameternya. Sehingga butuh membuat kolom baru bernama github_profile yang merupakan link profil github dari peserta.\n",
    "\n",
    "Dari dataset, profil github peserta merupakan gabungan dari first_name dan last_name yang sudah di-lowercase. "
   ]
  },
  {
   "cell_type": "code",
   "execution_count": 10,
   "id": "d357b8a4",
   "metadata": {},
   "outputs": [],
   "source": [
    "df_participant['github_profile'] = 'https://github.com/' + df_participant['first_name'].str.lower() + df_participant['last_name'].str.lower()"
   ]
  },
  {
   "cell_type": "markdown",
   "id": "f9fbccc4",
   "metadata": {},
   "source": [
    "### Transform IV : Nomor Handphone\n",
    "Pada dataset, nomor handphone peserta memiliki format yang berbeda-beda. Maka perlu untuk melakukan cleansing pada data nomor handphone agar memiliki format yang sama"
   ]
  },
  {
   "cell_type": "code",
   "execution_count": 12,
   "id": "ff6e838a",
   "metadata": {
    "collapsed": true
   },
   "outputs": [
    {
     "name": "stderr",
     "output_type": "stream",
     "text": [
      "C:\\Users\\ThinkPad\\AppData\\Local\\Temp\\ipykernel_4604\\445933550.py:1: FutureWarning: The default value of regex will change from True to False in a future version.\n",
      "  df_participant['cleaned_phone_number'] = df_participant['phone_number'].str.replace(r'^(\\+62|62)', '0') #mengubah awalan nomor HP berupa angka 62 atau +62 menjadi  0.\n",
      "C:\\Users\\ThinkPad\\AppData\\Local\\Temp\\ipykernel_4604\\445933550.py:2: FutureWarning: The default value of regex will change from True to False in a future version.\n",
      "  df_participant['cleaned_phone_number'] = df_participant['cleaned_phone_number'].str.replace(r'[()-]', '') #menghapus tanda baca seperti kurung buka, kurung tutup, strip⟶ ()-\n",
      "C:\\Users\\ThinkPad\\AppData\\Local\\Temp\\ipykernel_4604\\445933550.py:3: FutureWarning: The default value of regex will change from True to False in a future version.\n",
      "  df_participant['cleaned_phone_number'] = df_participant['cleaned_phone_number'].str.replace(r'\\s+', '') #menghapus spasi pada nomor HP\n"
     ]
    }
   ],
   "source": [
    "df_participant['cleaned_phone_number'] = df_participant['phone_number'].str.replace(r'^(\\+62|62)', '0') #mengubah awalan nomor HP berupa angka 62 atau +62 menjadi  0.\n",
    "df_participant['cleaned_phone_number'] = df_participant['cleaned_phone_number'].str.replace(r'[()-]', '') #menghapus tanda baca seperti kurung buka, kurung tutup, strip⟶ ()-\n",
    "df_participant['cleaned_phone_number'] = df_participant['cleaned_phone_number'].str.replace(r'\\s+', '') #menghapus spasi pada nomor HP"
   ]
  },
  {
   "cell_type": "markdown",
   "id": "a5d44656",
   "metadata": {},
   "source": [
    "### Transform V : Nama Tim\n",
    "Pembuatan nama tim merupakan gabungan nilai dari kolom first_name, last_name, country dan institute."
   ]
  },
  {
   "cell_type": "code",
   "execution_count": 16,
   "id": "9d312fcb",
   "metadata": {},
   "outputs": [],
   "source": [
    "def func(col):\n",
    "    abbrev_name = \"%s%s\"%(col['first_name'][0],col['last_name'][0]) #Singkatan dari Nama Depan dan Nama Belakang dengan mengambil huruf pertama\n",
    "    country = col['country']\n",
    "    abbrev_institute = '%s'%(''.join(list(map(lambda word: word[0], col['institute'].split())))) #Singkatan dari value di kolom institute\n",
    "    return \"%s-%s-%s\"%(abbrev_name,country,abbrev_institute)\n",
    "\n",
    "df_participant['team_name'] = df_participant.apply(func, axis=1)"
   ]
  },
  {
   "cell_type": "markdown",
   "id": "d64ac678",
   "metadata": {},
   "source": [
    "### Transform VI : Email\n",
    "Dari data peserta yang dimiliki, ada satu informasi yang penting namun belum tersedia, yaitu email. Sehingga perlu menyediakan informasi email dari peserta dengan aturan bahwa format email sebagai berikut:\n",
    "\n",
    "> \n",
    "    Format email:\n",
    "    xxyy@aa.bb.[ac/com].[cc]\n",
    "\n",
    "    Keterangan:\n",
    "    xx -> nama depan (first_name) dalam lowercase\n",
    "    yy -> nama belakang (last_name) dalam lowercase\n",
    "    aa -> nama institusi\n",
    "\n",
    "    Untuk nilai bb, dan cc mengikuti nilai dari aa. Aturannya:\n",
    "    - Jika institusi nya merupakan Universitas, maka\n",
    "      bb -> gabungan dari huruf pertama pada setiap kata dari nama Universitas dalam lowercase\n",
    "      Kemudian, diikuti dengan .ac yang menandakan akademi/institusi belajar dan diikuti dengan pattern cc\n",
    "    - Jika institusi bukan merupakan Universitas, maka\n",
    "      bb -> gabungan dari huruf pertama pada setiap kata dari nama Universitas dalam lowercase\n",
    "      Kemudian, diikuti dengan .com. Perlu diketahui bahwa pattern cc tidak berlaku pada kondisi ini\n",
    "\n",
    "    cc -> merupakan negara asal peserta, adapun aturannya:\n",
    "    - Jika banyaknya kata pada negara tersebut lebih dari 1 maka ambil singkatan dari negara tersebut dalam lowercase\n",
    "    - Namun, jika banyaknya kata hanya 1 maka ambil 3 huruf terdepan dari negara tersebut dalam lowercase\n",
    "\n",
    "    Contoh:\n",
    "      Nama depan: Citra\n",
    "      Nama belakang: Nurdiyanti\n",
    "      Institusi: UD Prakasa Mandasari\n",
    "      Negara: Georgia\n",
    "      Maka,Email nya: citranurdiyanti@upm.geo\n",
    "      -----------------------------------\n",
    "      Nama depan: Aris\n",
    "      Nama belakang: Setiawan\n",
    "      Institusi: Universitas Diponegoro\n",
    "      Negara: Korea Utara\n",
    "      Maka, Email nya: arissetiawan@ud.ac.ku"
   ]
  },
  {
   "cell_type": "code",
   "execution_count": 17,
   "id": "c56fda49",
   "metadata": {},
   "outputs": [],
   "source": [
    "def func(col):\n",
    "    first_name_lower = col['first_name'].lower()\n",
    "    last_name_lower = col['last_name'].lower()\n",
    "    institute = ''.join(list(map(lambda word: word[0], col['institute'].lower().split()))) #Singkatan dari nama perusahaan dalam lowercase\n",
    "\n",
    "    if 'Universitas' in col['institute']:\n",
    "        if len(col['country'].split()) > 1: #Kondisi untuk mengecek apakah jumlah kata dari country lebih dari 1\n",
    "            country = ''.join(list(map(lambda word: word[0], col['country'].lower().split())))\n",
    "        else:\n",
    "            country = col['country'][:3].lower()\n",
    "        return \"%s%s@%s.ac.%s\"%(first_name_lower,last_name_lower,institute,country)\n",
    "\n",
    "    return \"%s%s@%s.com\"%(first_name_lower,last_name_lower,institute)\n",
    "\n",
    "df_participant['email'] = df_participant.apply(func, axis=1)"
   ]
  },
  {
   "cell_type": "markdown",
   "id": "2ce7a019",
   "metadata": {},
   "source": [
    "### Transform VII - Tanggal Lahir\n",
    "Melakukan formatting terhadap kolom birth_date menjadi YYYY-MM-DD dan simpan di kolom yang sama."
   ]
  },
  {
   "cell_type": "code",
   "execution_count": 19,
   "id": "669969fe",
   "metadata": {},
   "outputs": [],
   "source": [
    "df_participant['birth_date'] = pd.to_datetime(df_participant['birth_date'], format='%d %b %Y')"
   ]
  },
  {
   "cell_type": "markdown",
   "id": "18198ce7",
   "metadata": {},
   "source": [
    "### Transform VII : Tanggal Daftar Kompetisi\n",
    "merubah register_time ke format DATETIME sesuai dengan aturan dari MySQL. Aturan MySQL: YYYY-MM-DD HH:mm:ss"
   ]
  },
  {
   "cell_type": "code",
   "execution_count": 21,
   "id": "a26988f8",
   "metadata": {},
   "outputs": [],
   "source": [
    "df_participant['register_at'] = pd.to_datetime(df_participant['register_time'], unit='s')"
   ]
  },
  {
   "cell_type": "markdown",
   "id": "b8269c67",
   "metadata": {},
   "source": [
    "### Load\n",
    "Setelah data melalui tahap transform, dataset menjadi telah berubah dari saat tahap extract, ada beberapa kolom tambahan yang dihasilkan dari nilai pada kolom lain."
   ]
  },
  {
   "cell_type": "code",
   "execution_count": 22,
   "id": "3629798c",
   "metadata": {
    "scrolled": true
   },
   "outputs": [
    {
     "data": {
      "text/html": [
       "<div>\n",
       "<style scoped>\n",
       "    .dataframe tbody tr th:only-of-type {\n",
       "        vertical-align: middle;\n",
       "    }\n",
       "\n",
       "    .dataframe tbody tr th {\n",
       "        vertical-align: top;\n",
       "    }\n",
       "\n",
       "    .dataframe thead th {\n",
       "        text-align: right;\n",
       "    }\n",
       "</style>\n",
       "<table border=\"1\" class=\"dataframe\">\n",
       "  <thead>\n",
       "    <tr style=\"text-align: right;\">\n",
       "      <th></th>\n",
       "      <th>participant_id</th>\n",
       "      <th>first_name</th>\n",
       "      <th>last_name</th>\n",
       "      <th>birth_date</th>\n",
       "      <th>address</th>\n",
       "      <th>phone_number</th>\n",
       "      <th>country</th>\n",
       "      <th>institute</th>\n",
       "      <th>occupation</th>\n",
       "      <th>register_time</th>\n",
       "      <th>city</th>\n",
       "      <th>github_profile</th>\n",
       "      <th>cleaned_phone_number</th>\n",
       "      <th>team_name</th>\n",
       "      <th>email</th>\n",
       "      <th>register_at</th>\n",
       "    </tr>\n",
       "  </thead>\n",
       "  <tbody>\n",
       "    <tr>\n",
       "      <th>0</th>\n",
       "      <td>bd9b6f88-b84f-4c4d-90f8-b67fe2f1a29a</td>\n",
       "      <td>Citra</td>\n",
       "      <td>Nurdiyanti</td>\n",
       "      <td>1991-02-05</td>\n",
       "      <td>Gg. Monginsidi No. 08\\nMedan, Aceh 80734</td>\n",
       "      <td>(0151) 081 2706</td>\n",
       "      <td>Georgia</td>\n",
       "      <td>UD Prakasa Mandasari</td>\n",
       "      <td>Business Intelligence Engineer</td>\n",
       "      <td>1.617634e+09</td>\n",
       "      <td>Medan</td>\n",
       "      <td>https://github.com/citranurdiyanti</td>\n",
       "      <td>01510812706</td>\n",
       "      <td>CN-Georgia-UPM</td>\n",
       "      <td>citranurdiyanti@upm.com</td>\n",
       "      <td>2021-04-05 14:47:26</td>\n",
       "    </tr>\n",
       "    <tr>\n",
       "      <th>1</th>\n",
       "      <td>7dfe3391-6f40-47b6-b4db-0c76ebaf5fc3</td>\n",
       "      <td>Aris</td>\n",
       "      <td>Setiawan</td>\n",
       "      <td>1993-01-11</td>\n",
       "      <td>Gg. Rajawali Timur No. 7\\nPrabumulih, MA 09434</td>\n",
       "      <td>+62 (036) 461 7027</td>\n",
       "      <td>Korea Utara</td>\n",
       "      <td>Universitas Diponegoro</td>\n",
       "      <td>Frontend Engineer</td>\n",
       "      <td>1.617634e+09</td>\n",
       "      <td>Prabumulih</td>\n",
       "      <td>https://github.com/arissetiawan</td>\n",
       "      <td>00364617027</td>\n",
       "      <td>AS-Korea Utara-UD</td>\n",
       "      <td>arissetiawan@ud.ac.ku</td>\n",
       "      <td>2021-04-05 14:46:58</td>\n",
       "    </tr>\n",
       "    <tr>\n",
       "      <th>2</th>\n",
       "      <td>19582d7f-b824-4fe5-a517-d5bf573fc768</td>\n",
       "      <td>Cornelia</td>\n",
       "      <td>Handayani</td>\n",
       "      <td>1993-07-31</td>\n",
       "      <td>Jalan Kebonjati No. 0\\nAmbon, SS 57739</td>\n",
       "      <td>089 833 6695</td>\n",
       "      <td>Komoro</td>\n",
       "      <td>UD Hardiansyah Puspasari</td>\n",
       "      <td>Business Analyst</td>\n",
       "      <td>1.617634e+09</td>\n",
       "      <td>Ambon</td>\n",
       "      <td>https://github.com/corneliahandayani</td>\n",
       "      <td>0898336695</td>\n",
       "      <td>CH-Komoro-UHP</td>\n",
       "      <td>corneliahandayani@uhp.com</td>\n",
       "      <td>2021-04-05 14:47:15</td>\n",
       "    </tr>\n",
       "    <tr>\n",
       "      <th>3</th>\n",
       "      <td>aeb6d817-25f3-4867-8a74-8d92e0a0f633</td>\n",
       "      <td>Soleh</td>\n",
       "      <td>Rajasa</td>\n",
       "      <td>1991-11-04</td>\n",
       "      <td>Jl. Yos Sudarso No. 109\\nLubuklinggau, SR 76156</td>\n",
       "      <td>+62 (418) 329-4756</td>\n",
       "      <td>Eritrea</td>\n",
       "      <td>Perum Tampubolon Yuliarti</td>\n",
       "      <td>DevOps Engineer</td>\n",
       "      <td>1.617634e+09</td>\n",
       "      <td>Lubuklinggau</td>\n",
       "      <td>https://github.com/solehrajasa</td>\n",
       "      <td>04183294756</td>\n",
       "      <td>SR-Eritrea-PTY</td>\n",
       "      <td>solehrajasa@pty.com</td>\n",
       "      <td>2021-04-05 14:47:14</td>\n",
       "    </tr>\n",
       "    <tr>\n",
       "      <th>4</th>\n",
       "      <td>1fdabdd9-5444-4c97-87b2-fe8833ad0d27</td>\n",
       "      <td>Vivi</td>\n",
       "      <td>Astuti</td>\n",
       "      <td>2003-01-22</td>\n",
       "      <td>Jalan Gardujati No. 53\\nKediri, Sulawesi Tenga...</td>\n",
       "      <td>0812511835</td>\n",
       "      <td>Aljazair</td>\n",
       "      <td>PT Hardiansyah Rahimah</td>\n",
       "      <td>Data Analyst</td>\n",
       "      <td>1.617634e+09</td>\n",
       "      <td>Kediri</td>\n",
       "      <td>https://github.com/viviastuti</td>\n",
       "      <td>0812511835</td>\n",
       "      <td>VA-Aljazair-PHR</td>\n",
       "      <td>viviastuti@phr.com</td>\n",
       "      <td>2021-04-05 14:46:50</td>\n",
       "    </tr>\n",
       "  </tbody>\n",
       "</table>\n",
       "</div>"
      ],
      "text/plain": [
       "                         participant_id first_name   last_name birth_date  \\\n",
       "0  bd9b6f88-b84f-4c4d-90f8-b67fe2f1a29a      Citra  Nurdiyanti 1991-02-05   \n",
       "1  7dfe3391-6f40-47b6-b4db-0c76ebaf5fc3       Aris    Setiawan 1993-01-11   \n",
       "2  19582d7f-b824-4fe5-a517-d5bf573fc768   Cornelia   Handayani 1993-07-31   \n",
       "3  aeb6d817-25f3-4867-8a74-8d92e0a0f633      Soleh      Rajasa 1991-11-04   \n",
       "4  1fdabdd9-5444-4c97-87b2-fe8833ad0d27       Vivi      Astuti 2003-01-22   \n",
       "\n",
       "                                             address        phone_number  \\\n",
       "0           Gg. Monginsidi No. 08\\nMedan, Aceh 80734     (0151) 081 2706   \n",
       "1     Gg. Rajawali Timur No. 7\\nPrabumulih, MA 09434  +62 (036) 461 7027   \n",
       "2             Jalan Kebonjati No. 0\\nAmbon, SS 57739        089 833 6695   \n",
       "3    Jl. Yos Sudarso No. 109\\nLubuklinggau, SR 76156  +62 (418) 329-4756   \n",
       "4  Jalan Gardujati No. 53\\nKediri, Sulawesi Tenga...          0812511835   \n",
       "\n",
       "       country                  institute                      occupation  \\\n",
       "0      Georgia       UD Prakasa Mandasari  Business Intelligence Engineer   \n",
       "1  Korea Utara     Universitas Diponegoro               Frontend Engineer   \n",
       "2       Komoro   UD Hardiansyah Puspasari                Business Analyst   \n",
       "3      Eritrea  Perum Tampubolon Yuliarti                 DevOps Engineer   \n",
       "4     Aljazair     PT Hardiansyah Rahimah                    Data Analyst   \n",
       "\n",
       "   register_time          city                        github_profile  \\\n",
       "0   1.617634e+09         Medan    https://github.com/citranurdiyanti   \n",
       "1   1.617634e+09    Prabumulih       https://github.com/arissetiawan   \n",
       "2   1.617634e+09         Ambon  https://github.com/corneliahandayani   \n",
       "3   1.617634e+09  Lubuklinggau        https://github.com/solehrajasa   \n",
       "4   1.617634e+09        Kediri         https://github.com/viviastuti   \n",
       "\n",
       "  cleaned_phone_number          team_name                      email  \\\n",
       "0          01510812706     CN-Georgia-UPM    citranurdiyanti@upm.com   \n",
       "1          00364617027  AS-Korea Utara-UD      arissetiawan@ud.ac.ku   \n",
       "2           0898336695      CH-Komoro-UHP  corneliahandayani@uhp.com   \n",
       "3          04183294756     SR-Eritrea-PTY        solehrajasa@pty.com   \n",
       "4           0812511835    VA-Aljazair-PHR         viviastuti@phr.com   \n",
       "\n",
       "          register_at  \n",
       "0 2021-04-05 14:47:26  \n",
       "1 2021-04-05 14:46:58  \n",
       "2 2021-04-05 14:47:15  \n",
       "3 2021-04-05 14:47:14  \n",
       "4 2021-04-05 14:46:50  "
      ]
     },
     "execution_count": 22,
     "metadata": {},
     "output_type": "execute_result"
    }
   ],
   "source": [
    "df_participant.head()"
   ]
  },
  {
   "cell_type": "markdown",
   "id": "a8523301",
   "metadata": {},
   "source": [
    "Pada bagian load ini, data yang sudah ditransformasi sedemikian rupa sehingga sesuai dengan kebutuhan tim analyst dimasukkan kembali ke database yaitu Data Warehouse (DWH). Biasanya, dilakukan pendefinisian skema database terlebih dahulu seperti:\n",
    "\n",
    "Nama kolom\n",
    "Tipe kolom\n",
    "Apakah primary key, unique key, index atau bukan\n",
    "Panjang kolomnya\n",
    "Karena umumnya Data Warehouse merupakan database yang terstruktur sehingga mereka memerlukan skema sebelum datanya dimasukkan.\n",
    "\n",
    "Pandas sudah menyediakan fungsi untuk memasukkan data ke database yaitu to_sql().\n",
    "\n",
    "Detail dari fungsi tersebut bisa dilihat pada dokumentasi Pandas: https://pandas.pydata.org/docs/ref"
   ]
  }
 ],
 "metadata": {
  "kernelspec": {
   "display_name": "Python [conda env:root] *",
   "language": "python",
   "name": "conda-root-py"
  },
  "language_info": {
   "codemirror_mode": {
    "name": "ipython",
    "version": 3
   },
   "file_extension": ".py",
   "mimetype": "text/x-python",
   "name": "python",
   "nbconvert_exporter": "python",
   "pygments_lexer": "ipython3",
   "version": "3.9.12"
  }
 },
 "nbformat": 4,
 "nbformat_minor": 5
}
